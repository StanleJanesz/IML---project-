{
 "cells": [
  {
   "cell_type": "code",
   "execution_count": 1,
   "metadata": {},
   "outputs": [],
   "source": [
    "import os\n",
    "import numpy as np\n",
    "import matplotlib.pyplot as plt\n",
    "import librosa\n",
    "import librosa.display\n",
    "import soundfile\n",
    "from scipy import signal\n",
    "from scipy.io import wavfile"
   ]
  },
  {
   "cell_type": "code",
   "execution_count": 2,
   "metadata": {},
   "outputs": [],
   "source": [
    "input_folder = 'Data'\n",
    "output_folder = 'Spectrograms'\n",
    "\n",
    "if not os.path.exists(output_folder):\n",
    "    os.makedirs(output_folder)"
   ]
  },
  {
   "cell_type": "code",
   "execution_count": null,
   "metadata": {},
   "outputs": [],
   "source": [
    "for file in os.listdir(input_folder):\n",
    "    if(file.endswith(\".wav\")):\n",
    "        create_spectrogram(file, output_folder, input_folder)\n"
   ]
  },
  {
   "cell_type": "code",
   "execution_count": 42,
   "metadata": {},
   "outputs": [],
   "source": [
    "def create_spectrogram(file, ofolder_path, ifolder_path):\n",
    "    \n",
    "    file_path = os.path.join(ifolder_path, file)\n",
    "\n",
    "    #sample_rate, samples = wavfile.read(file_path) if code below doesn't work, but gets different sample rate ㅠㅠ\n",
    "    samples, sample_rate = librosa.load(file_path, sr = 16000)\n",
    "\n",
    "    frequencies, times, spectrogram = signal.spectrogram(samples, sample_rate)\n",
    "\n",
    "    # to prevent log(0)\n",
    "    spectrogram[spectrogram == 0] = 1e-10\n",
    "\n",
    "    base_name = os.path.splitext(os.path.basename(file))[0]\n",
    "\n",
    "    plt.figure(figsize=(10,5))\n",
    "\n",
    "    plt.pcolormesh(times, frequencies, np.log(spectrogram), cmap='gray')\n",
    "    plt.title(base_name)\n",
    "    plt.ylabel('Frequency [Hz]')\n",
    "    plt.xlabel('Time [sec]')\n",
    "    #plt.show()\n",
    "\n",
    "    new_path = os.path.join(ofolder_path, base_name + '.jpg')\n",
    "    \n",
    "    plt.savefig(new_path)\n",
    "    plt.close()"
   ]
  },
  {
   "cell_type": "code",
   "execution_count": 56,
   "metadata": {},
   "outputs": [],
   "source": [
    "def create_spectrogram2(file, ofolder_path, ifolder_path, fft_size = 2048, window_size=None, hop_size=None):\n",
    "    \n",
    "    file_path = os.path.join(ifolder_path, file)\n",
    "\n",
    "    samples, sample_rate = librosa.load(file_path, sr = 16000)\n",
    "\n",
    "    base_name = os.path.splitext(os.path.basename(file))[0]\n",
    "\n",
    "    if not window_size:\n",
    "        window_size = fft_size\n",
    "\n",
    "    if not hop_size:\n",
    "        hop_size = window_size // 4\n",
    "\n",
    "    stft = librosa.stft(\n",
    "        samples,\n",
    "        n_fft = fft_size,\n",
    "        hop_length = hop_size,\n",
    "        win_length = window_size,\n",
    "        center = False,\n",
    "    )\n",
    "    spectrogram = np.abs(stft)\n",
    "    spectrogram_db = librosa.amplitude_to_db(spectrogram, ref=np.max)\n",
    "\n",
    "    plt.figure(figsize=(10,5))\n",
    "    librosa.display.specshow(\n",
    "        spectrogram_db,\n",
    "        y_axis = \"log\",\n",
    "        x_axis = \"time\",\n",
    "        sr = sample_rate,\n",
    "        hop_length = hop_size,\n",
    "        win_length = window_size,\n",
    "        n_fft = fft_size,\n",
    "        cmap = \"gray\"\n",
    "    )\n",
    "\n",
    "    plt.title(base_name)\n",
    "    plt.ylabel('Frequency [Hz]')\n",
    "    plt.xlabel('Time [sec]')\n",
    "    #plt.show()\n",
    "\n",
    "    new_path = os.path.join(ofolder_path, base_name + '.jpg')\n",
    "\n",
    "    plt.savefig(new_path)\n",
    "    plt.close()"
   ]
  },
  {
   "cell_type": "code",
   "execution_count": 55,
   "metadata": {},
   "outputs": [],
   "source": [
    "def create_mel_spectrogram(file, ofolder_path, ifolder_path):\n",
    "    \n",
    "    file_path = os.path.join(ifolder_path, file)\n",
    "\n",
    "    data, sample_rate = librosa.load(file_path, sr = 16000)\n",
    "\n",
    "    base_name = os.path.splitext(os.path.basename(file))[0]\n",
    "\n",
    "    mel_spectrogram = librosa.feature.melspectrogram(y = data, sr = sample_rate)\n",
    "    mel_spectrogram_db = librosa.power_to_db(mel_spectrogram, ref = np.max)\n",
    "\n",
    "    plt.figure(figsize=(10,5))\n",
    "    librosa.display.specshow(\n",
    "        mel_spectrogram_db,\n",
    "        y_axis = \"log\",\n",
    "        x_axis = \"time\",\n",
    "        sr = sample_rate,\n",
    "        cmap = \"gray\",\n",
    "    )\n",
    "\n",
    "    plt.title(base_name)\n",
    "    plt.ylabel('Frequency [Hz]')\n",
    "    plt.xlabel('Time [sec]')\n",
    "    #plt.show()\n",
    "\n",
    "    new_path = os.path.join(ofolder_path, base_name + '.jpg')\n",
    "\n",
    "    plt.savefig(new_path)\n",
    "    plt.close()"
   ]
  }
 ],
 "metadata": {
  "kernelspec": {
   "display_name": "Python 3",
   "language": "python",
   "name": "python3"
  },
  "language_info": {
   "codemirror_mode": {
    "name": "ipython",
    "version": 3
   },
   "file_extension": ".py",
   "mimetype": "text/x-python",
   "name": "python",
   "nbconvert_exporter": "python",
   "pygments_lexer": "ipython3",
   "version": "3.12.3"
  }
 },
 "nbformat": 4,
 "nbformat_minor": 4
}
