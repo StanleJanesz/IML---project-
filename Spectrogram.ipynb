{
 "cells": [
  {
   "cell_type": "code",
   "execution_count": 12,
   "metadata": {},
   "outputs": [],
   "source": [
    "import os\n",
    "import numpy as np\n",
    "import matplotlib.pyplot as plt\n",
    "import glob\n",
    "from pydub import AudioSegment\n",
    "from pydub.silence import split_on_silence\n",
    "from scipy import signal\n",
    "from scipy.io import wavfile"
   ]
  },
  {
   "cell_type": "markdown",
   "metadata": {},
   "source": [
    "### Usuwanie ciszy\n",
    "Funkcja remove_silence() iteruje po ścieżkach dźwiękowych w folderze '/Data/' i dodaje do podfolderu '/Edited/' te same ścieżki dźwiękowe z usuniętą ciszą."
   ]
  },
  {
   "cell_type": "code",
   "execution_count": 15,
   "metadata": {},
   "outputs": [],
   "source": [
    "def remove_silence():\n",
    "    Output_folder = 'Data/Edited' \n",
    "    if not os.path.exists(Output_folder):\n",
    "        os.makedirs(Output_folder)\n",
    "    for file_name in glob.glob(\"Data/*.wav\"):\n",
    "        audio_format = \"wav\"\n",
    "        output_name = 'Data/Edited/'+file_name.split('\\\\')[1].split('.')[0]+'_Edited.wav'\n",
    "        print(file_name)\n",
    "        print(output_name)\n",
    "\n",
    "        # Reading and splitting the audio file into chunks\n",
    "        sound = AudioSegment.from_file(file_name, format = audio_format) \n",
    "        audio_chunks = split_on_silence(sound\n",
    "                                    ,min_silence_len = 100\n",
    "                                    ,silence_thresh = -45\n",
    "                                    ,keep_silence = 50\n",
    "                                )\n",
    "        # Putting the file back together\n",
    "        combined = AudioSegment.empty()\n",
    "        for chunk in audio_chunks:\n",
    "            combined += chunk\n",
    "        combined.export(output_name, format = audio_format)"
   ]
  },
  {
   "cell_type": "code",
   "execution_count": 16,
   "metadata": {},
   "outputs": [
    {
     "name": "stdout",
     "output_type": "stream",
     "text": [
      "Data\\f1_script1_cleanraw.wav\n",
      "Data/Edited/f1_script1_cleanraw_Edited.wav\n",
      "Data\\m10_script5_cleanraw.wav\n",
      "Data/Edited/m10_script5_cleanraw_Edited.wav\n"
     ]
    }
   ],
   "source": [
    "remove_silence()"
   ]
  },
  {
   "cell_type": "markdown",
   "metadata": {},
   "source": [
    "### Dzielenie ścieżek na fragmenty\n",
    "Funkcja cut_data() iteruje po folderze \"/Data/Edited\" i każdą ścieżkę dźwiękową (z usuniętą ciszą) dzieli na 2 sekundowe fragmenty i zapisuje w folderze \"/Data/Cut\""
   ]
  },
  {
   "cell_type": "code",
   "execution_count": 18,
   "metadata": {},
   "outputs": [],
   "source": [
    "# Saves segments into .wav files\n",
    "def segments_to_wav(segments, filename, output_folder, sample_rate):\n",
    "    for i, segment in enumerate(segments):\n",
    "        path = os.path.join(output_folder,f\"{filename}_part_{i+1}.wav\")\n",
    "        wavfile.write(path, sample_rate, segment)"
   ]
  },
  {
   "cell_type": "code",
   "execution_count": 19,
   "metadata": {},
   "outputs": [],
   "source": [
    "# Splits good audio parts into segments of specified duration ready to be saved\n",
    "def split_audio_to_segments(data, sample_rate, segment_duration = 2):\n",
    "\n",
    "    segment_samples = int(segment_duration*sample_rate)\n",
    "    segments = []\n",
    "\n",
    "    for i in range(len(data)//segment_samples):\n",
    "        segment = data[i * segment_samples:(i + 1) * segment_samples]\n",
    "        segments.append(segment)\n",
    "\n",
    "    return segments"
   ]
  },
  {
   "cell_type": "code",
   "execution_count": 20,
   "metadata": {},
   "outputs": [],
   "source": [
    "def cut_file(filename, input_folder, output_folder, segments_duration = 2, threshold = 400):\n",
    "\n",
    "    if not os.path.exists(output_folder):\n",
    "        os.makedirs(output_folder)\n",
    "\n",
    "    file_path = os.path.join(input_folder, filename)\n",
    "    base_name = os.path.splitext(os.path.basename(filename))[0]\n",
    "\n",
    "    sample_rate, data = wavfile.read(file_path)\n",
    "    \n",
    "    # Checking if stereo (using only mono)\n",
    "    if len(data.shape) == 2:\n",
    "        data = data[:0]\n",
    "\n",
    "    segments = split_audio_to_segments(data, sample_rate, segments_duration)\n",
    "\n",
    "    segments_to_wav(segments, base_name, output_folder, sample_rate)"
   ]
  },
  {
   "cell_type": "code",
   "execution_count": 21,
   "metadata": {},
   "outputs": [],
   "source": [
    "for file in os.listdir('Data/Edited'):\n",
    "    if(file.endswith(\".wav\")):\n",
    "        cut_file(file, 'Data/Edited', 'Data/Cut')"
   ]
  },
  {
   "cell_type": "markdown",
   "metadata": {},
   "source": [
    "### Tworzenie spektrogramów\n",
    "Z każdej 2 sekundowej ścieżki dźwiękowej tworzony jest spektrogram i zapisywany jest w folderze '/Spectrograms/'"
   ]
  },
  {
   "cell_type": "code",
   "execution_count": 23,
   "metadata": {},
   "outputs": [],
   "source": [
    "def create_spectrogram(file, ofolder_path, ifolder_path):\n",
    "    \n",
    "    file_path = os.path.join(ifolder_path, file)\n",
    "\n",
    "    sample_rate, samples = wavfile.read(file_path)\n",
    "    frequencies, times, spectrogram = signal.spectrogram(samples, sample_rate)\n",
    "\n",
    "    base_name = os.path.splitext(os.path.basename(file))[0]\n",
    "\n",
    "    plt.figure(figsize=(10,5))\n",
    "    #Deleting cmap='gray' speeds the creation of spectrogram by 5 times, but its colorful\n",
    "    plt.pcolormesh(times, frequencies, np.log(spectrogram), shading='gouraud', cmap='gray')\n",
    "    plt.title(base_name)\n",
    "    plt.ylabel('Frequency [Hz]')\n",
    "    plt.xlabel('Time [sec]')\n",
    "\n",
    "    new_path = os.path.join(ofolder_path, base_name + '.jpg')\n",
    "\n",
    "    plt.savefig(new_path)\n",
    "    plt.close()"
   ]
  },
  {
   "cell_type": "code",
   "execution_count": 24,
   "metadata": {},
   "outputs": [],
   "source": [
    "for file in os.listdir('Data/Cut'):\n",
    "    if(file.endswith(\".wav\")):\n",
    "        create_spectrogram(file, 'Spectrograms', 'Data/Cut')\n"
   ]
  }
 ],
 "metadata": {
  "kernelspec": {
   "display_name": ".venv",
   "language": "python",
   "name": "python3"
  },
  "language_info": {
   "codemirror_mode": {
    "name": "ipython",
    "version": 3
   },
   "file_extension": ".py",
   "mimetype": "text/x-python",
   "name": "python",
   "nbconvert_exporter": "python",
   "pygments_lexer": "ipython3",
   "version": "3.12.3"
  }
 },
 "nbformat": 4,
 "nbformat_minor": 2
}
