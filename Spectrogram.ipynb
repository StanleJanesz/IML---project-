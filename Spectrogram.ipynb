{
 "cells": [
  {
   "cell_type": "code",
   "execution_count": 1,
   "metadata": {},
   "outputs": [],
   "source": [
    "import os\n",
    "import numpy as np\n",
    "import matplotlib.pyplot as plt\n",
    "from scipy import signal\n",
    "from scipy.io import wavfile"
   ]
  },
  {
   "cell_type": "code",
   "execution_count": 2,
   "metadata": {},
   "outputs": [],
   "source": [
    "input_folder = 'Data'\n",
    "output_folder = 'Spectrograms'\n",
    "\n",
    "if not os.path.exists(output_folder):\n",
    "    os.makedirs(output_folder)"
   ]
  },
  {
   "cell_type": "code",
   "execution_count": 4,
   "metadata": {},
   "outputs": [],
   "source": [
    "for file in os.listdir(input_folder):\n",
    "    if(file.endswith(\".wav\")):\n",
    "        create_spectrogram(file, output_folder, input_folder)\n"
   ]
  },
  {
   "cell_type": "code",
   "execution_count": 3,
   "metadata": {},
   "outputs": [],
   "source": [
    "def create_spectrogram(file, ofolder_path, ifolder_path):\n",
    "    \n",
    "    file_path = os.path.join(ifolder_path, file)\n",
    "\n",
    "    sample_rate, samples = wavfile.read(file_path)\n",
    "    frequencies, times, spectrogram = signal.spectrogram(samples, sample_rate)\n",
    "\n",
    "    base_name = os.path.splitext(os.path.basename(file))[0]\n",
    "\n",
    "    plt.figure(figsize=(10,5))\n",
    "    #Deleting cmap='gray' speeds the creation of spectrogram by 5 times, but its colorful\n",
    "    plt.pcolormesh(times, frequencies, np.log(spectrogram), shading='gouraud', cmap='gray')\n",
    "    plt.title(base_name)\n",
    "    plt.ylabel('Frequency [Hz]')\n",
    "    plt.xlabel('Time [sec]')\n",
    "\n",
    "    new_path = os.path.join(ofolder_path, base_name + '.jpg')\n",
    "\n",
    "    plt.savefig(new_path)\n",
    "    plt.close()"
   ]
  }
 ],
 "metadata": {
  "kernelspec": {
   "display_name": "Python 3",
   "language": "python",
   "name": "python3"
  },
  "language_info": {
   "codemirror_mode": {
    "name": "ipython",
    "version": 3
   },
   "file_extension": ".py",
   "mimetype": "text/x-python",
   "name": "python",
   "nbconvert_exporter": "python",
   "pygments_lexer": "ipython3",
   "version": "3.12.3"
  }
 },
 "nbformat": 4,
 "nbformat_minor": 2
}
