{
 "cells": [
  {
   "cell_type": "code",
   "execution_count": 16,
   "id": "a34fb5fa-c6ce-4797-83af-b37f5268556e",
   "metadata": {},
   "outputs": [],
   "source": [
    "import os\n",
    "import csv\n",
    "import shutil\n",
    "import random"
   ]
  },
  {
   "cell_type": "code",
   "execution_count": 14,
   "id": "adda6ee1-3e69-4d19-8a56-4f9c5250e3a4",
   "metadata": {},
   "outputs": [],
   "source": [
    "directoryone = \"daps_Data\\\\Class_One\\\\Spectrograms\"\n",
    "directorytwo = \"daps_Data\\\\Class_Two\\\\Spectrograms\"\n",
    "for filename in os.listdir(directoryone):\n",
    "    if 'f10' in filename:\n",
    "        fullpath = os.path.join(directoryone, filename)\n",
    "        shutil.move(fullpath, directorytwo)"
   ]
  },
  {
   "cell_type": "code",
   "execution_count": 18,
   "id": "78b24fa6-7a70-4106-b7ea-8ea34bf30fb3",
   "metadata": {},
   "outputs": [],
   "source": [
    "test_directory = \"daps_Data\\\\test_dataset\\\\Images\"\n",
    "training_directory = \"daps_Data\\\\training_dataset\\\\Images\"\n",
    "directoryone = \"daps_Data\\\\Class_One\\\\Spectrograms\"\n",
    "directorytwo = \"daps_Data\\\\Class_Two\\\\Spectrograms\"\n",
    "i = 1\n",
    "a = random.sample(range(1, 1968), 300)\n",
    "for filename in os.listdir(directoryone):\n",
    "    fullpath = os.path.join(directoryone, filename)\n",
    "    if i in a:\n",
    "        shutil.copy(fullpath, test_directory)        \n",
    "    else:\n",
    "        shutil.copy(fullpath, training_directory)\n",
    "    i=i+1\n",
    "i=1\n",
    "a = random.sample(range(1, 4464), 700)\n",
    "for filename in os.listdir(directorytwo):\n",
    "    fullpath = os.path.join(directorytwo, filename)\n",
    "    if i in a:\n",
    "        shutil.copy(fullpath, test_directory)        \n",
    "    else:\n",
    "        shutil.copy(fullpath, training_directory)\n",
    "    i=i+1"
   ]
  },
  {
   "cell_type": "code",
   "execution_count": 22,
   "id": "7a20a25c-9ec9-4421-a785-b81b8694b5d5",
   "metadata": {},
   "outputs": [],
   "source": [
    "# name of csv file\n",
    "csvname = \"daps_Data\\\\training_dataset\\\\labels.csv\"\n",
    "class_one_indicators = ['f1', 'f7', 'f8', 'm3', 'm6', 'm8']\n",
    "directory = \"daps_Data\\\\training_dataset\\\\images\"\n",
    "# writing to csv file\n",
    "with open(csvname, 'w') as csvfile:\n",
    "    # creating a csv writer object\n",
    "    csvwriter = csv.writer(csvfile)\n",
    "    for filename in os.listdir(directory):\n",
    "        if any(indicator in filename for indicator in class_one_indicators) and not 'f10' in filename:\n",
    "            csvwriter.writerow([filename, '1'])\n",
    "        else:\n",
    "            csvwriter.writerow([filename, '0'])        "
   ]
  },
  {
   "cell_type": "code",
   "execution_count": 34,
   "id": "3e33a448-5fba-42be-91c6-6575b129dbfc",
   "metadata": {},
   "outputs": [],
   "source": [
    "from PIL import Image\n",
    "training_directory = \"daps_Data\\\\training_dataset\\\\Images\"\n",
    "left = 125\n",
    "top = 60\n",
    "right = 901\n",
    "bottom = 446\n",
    "target = \"daps_Data\\\\training_dataset\\\\Images_cropped\\\\\"\n",
    "# Opens a image in RGB mode\n",
    "for filename in os.listdir(training_directory):\n",
    "    fullpath = os.path.join(training_directory, filename)\n",
    "    im = Image.open(fullpath)\n",
    " \n",
    "# Size of the image in pixels (size of original image)\n",
    "# (This is not mandatory)\n",
    "# width, height = im.size\n",
    " \n",
    "# Setting the points for cropped image\n",
    "\n",
    " \n",
    "# Cropped image of above dimension\n",
    "# (It will not change original image)\n",
    "    im1 = im.crop((left, top, right, bottom))\n",
    "    im1.save(target + filename)\n",
    "# Shows the image in image viewer\n"
   ]
  },
  {
   "cell_type": "code",
   "execution_count": 29,
   "id": "e326af79-09ca-4a64-9445-a3341bc1f510",
   "metadata": {},
   "outputs": [],
   "source": [
    "import os\n",
    "import pandas as pd\n",
    "from torchvision.io import read_image\n",
    "import torch\n",
    "from torch.utils.data import Dataset\n",
    "from torchvision import datasets\n",
    "from torchvision.transforms import ToTensor\n",
    "import matplotlib.pyplot as plt\n",
    "from torch.utils.data import DataLoader\n",
    "import torch.nn as nn\n",
    "import torch.nn.functional as F"
   ]
  },
  {
   "cell_type": "code",
   "execution_count": 30,
   "id": "0e3c7a0a-5024-438b-ad94-cd785ba06a0f",
   "metadata": {},
   "outputs": [],
   "source": [
    "class ImageDataset(Dataset):\n",
    "    def __init__(self, annotations_file, img_dir, transform=None, target_transform=None):\n",
    "        self.img_labels = pd.read_csv(annotations_file)\n",
    "        self.img_dir = img_dir\n",
    "        self.transform = transform\n",
    "        self.target_transform = target_transform\n",
    "\n",
    "    def __len__(self):\n",
    "        return len(self.img_labels)\n",
    "\n",
    "    def __getitem__(self, idx):\n",
    "        img_path = os.path.join(self.img_dir, self.img_labels.iloc[idx, 0])\n",
    "        image = read_image(img_path)\n",
    "        label = self.img_labels.iloc[idx, 1]\n",
    "        if self.transform:\n",
    "            image = self.transform(image)\n",
    "        if self.target_transform:\n",
    "            label = self.target_transform(label)\n",
    "        return image, label"
   ]
  },
  {
   "cell_type": "code",
   "execution_count": 17,
   "id": "1227ae2d-63e6-4d79-9823-9b05dc69111e",
   "metadata": {},
   "outputs": [],
   "source": [
    "import torch\n",
    "import torchvision\n",
    "import torchvision.transforms.v2\n",
    "import torchvision.transforms as transforms"
   ]
  },
  {
   "cell_type": "code",
   "execution_count": 31,
   "id": "b2cf27e8-dc3b-4de0-811a-b55b58b98b89",
   "metadata": {},
   "outputs": [],
   "source": [
    "transform = torchvision.transforms.v2.Compose([transforms.v2.ToImage(), transforms.v2.ToDtype(torch.float32, scale=True),\\\n",
    "                                               transforms.Normalize((0.5, 0.5, 0.5), (0.5, 0.5, 0.5))])\n",
    "\n",
    "\n",
    "trainset = ImageDataset(annotations_file = \"..\\\\work_folder\\\\daps_Data\\\\training_dataset\\\\labels.csv\", img_dir = \"..\\\\work_folder\\\\daps_Data\\\\training_dataset\\\\Images_cropped\"\\\n",
    "                       , transform = transform)\n",
    "\n",
    "testset = ImageDataset(annotations_file = \"..\\\\work_folder\\\\daps_Data\\\\test_dataset\\\\labels.csv\", img_dir = \"..\\\\work_folder\\\\daps_Data\\\\test_dataset\\\\Images_cropped\"\\\n",
    "                      , transform = transform)"
   ]
  },
  {
   "cell_type": "code",
   "execution_count": 32,
   "id": "58072d15-0015-4887-a629-c0cffb2b83d1",
   "metadata": {},
   "outputs": [],
   "source": [
    "batch_size = 4\n",
    "\n",
    "trainloader = DataLoader(trainset, batch_size=batch_size,\n",
    "                                          shuffle=True, num_workers=0)\n",
    "\n",
    "testloader = DataLoader(testset, batch_size=batch_size,\n",
    "                                         shuffle=False, num_workers=0)\n",
    "\n",
    "classes = (\"0\", \"1\")"
   ]
  },
  {
   "cell_type": "code",
   "execution_count": 33,
   "id": "71c71065-4523-4abe-8860-e8dc32ecba66",
   "metadata": {},
   "outputs": [
    {
     "data": {
      "image/png": "[encoded data removed]",
      "text/plain": [
       "<Figure size 640x480 with 1 Axes>"
      ]
     },
     "metadata": {},
     "output_type": "display_data"
    },
    {
     "name": "stdout",
     "output_type": "stream",
     "text": [
      "0     0     0     0    \n"
     ]
    }
   ],
   "source": [
    "import matplotlib.pyplot as plt\n",
    "import numpy as np\n",
    "\n",
    "# functions to show an image\n",
    "\n",
    "\n",
    "def imshow(img):\n",
    "    img = img / 2 + 0.5     # unnormalize\n",
    "    npimg = img.numpy()\n",
    "    plt.imshow(np.transpose(npimg, (1, 2, 0)))\n",
    "    plt.show()\n",
    "\n",
    "\n",
    "# get some random training images\n",
    "dataiter = iter(trainloader)\n",
    "images, labels = next(dataiter)\n",
    "\n",
    "# show images\n",
    "imshow(torchvision.utils.make_grid(images))\n",
    "# print labels\n",
    "print(' '.join(f'{classes[labels[j]]:5s}' for j in range(batch_size)))"
   ]
  },
  {
   "cell_type": "code",
   "execution_count": 34,
   "id": "162bbaa8-2ef4-49d0-bf30-a7d23de80de9",
   "metadata": {},
   "outputs": [
    {
     "name": "stdout",
     "output_type": "stream",
     "text": [
      "Net(\n",
      "  (conv1): Conv2d(3, 6, kernel_size=(5, 5), stride=(1, 1))\n",
      "  (pool): MaxPool2d(kernel_size=2, stride=2, padding=0, dilation=1, ceil_mode=False)\n",
      "  (conv2): Conv2d(6, 16, kernel_size=(5, 5), stride=(1, 1))\n",
      "  (fc1): Linear(in_features=284208, out_features=120, bias=True)\n",
      "  (fc2): Linear(in_features=120, out_features=84, bias=True)\n",
      "  (fc3): Linear(in_features=84, out_features=10, bias=True)\n",
      ")\n"
     ]
    }
   ],
   "source": [
    "class Net(nn.Module):\n",
    "    def __init__(self):\n",
    "        super().__init__()\n",
    "        self.conv1 = nn.Conv2d(3, 6, 5)\n",
    "        self.pool = nn.MaxPool2d(2, 2)\n",
    "        self.conv2 = nn.Conv2d(6, 16, 5)\n",
    "        self.fc1 = nn.Linear(284208, 120)\n",
    "        self.fc2 = nn.Linear(120, 84)\n",
    "        self.fc3 = nn.Linear(84, 10)\n",
    "\n",
    "    def forward(self, x):\n",
    "        x = self.pool(F.relu(self.conv1(x)))\n",
    "        x = self.pool(F.relu(self.conv2(x)))\n",
    "        x = torch.flatten(x, 1) # flatten all dimensions except batch\n",
    "        x = F.relu(self.fc1(x))\n",
    "        x = F.relu(self.fc2(x))\n",
    "        x = self.fc3(x)\n",
    "        return x\n",
    "\n",
    "\n",
    "\n",
    "net = Net()\n",
    "print(net)"
   ]
  },
  {
   "cell_type": "code",
   "execution_count": 35,
   "id": "2f2131aa-8658-43d1-8d11-4d53d9688241",
   "metadata": {},
   "outputs": [],
   "source": [
    "import torch.optim as optim\n",
    "\n",
    "criterion = nn.CrossEntropyLoss()\n",
    "optimizer = optim.SGD(net.parameters(), lr=0.001, momentum=0.9)"
   ]
  },
  {
   "cell_type": "code",
   "execution_count": null,
   "id": "c8fc4c52-c783-4aba-9a12-da364b864343",
   "metadata": {},
   "outputs": [],
   "source": [
    "for epoch in range(2):  # loop over the dataset multiple times\n",
    "\n",
    "    running_loss = 0.0\n",
    "    for i, data in enumerate(trainloader, 0):\n",
    "        # get the inputs; data is a list of [inputs, labels]\n",
    "        inputs, labels = data\n",
    "\n",
    "        # zero the parameter gradients\n",
    "        optimizer.zero_grad()\n",
    "\n",
    "        # forward + backward + optimize\n",
    "        outputs = net(inputs)\n",
    "        loss = criterion(outputs, labels)\n",
    "        loss.backward()\n",
    "        optimizer.step()\n",
    "\n",
    "        # print statistics\n",
    "        running_loss += loss.item()\n",
    "        if i % 2000 == 1999:    # print every 2000 mini-batches\n",
    "            print(f'[{epoch + 1}, {i + 1:5d}] loss: {running_loss / 2000:.3f}')\n",
    "            running_loss = 0.0\n",
    "\n",
    "print('Finished Training')"
   ]
  },
  {
   "cell_type": "code",
   "execution_count": 36,
   "id": "a3c857d7-6126-4c64-b37a-e64241c70b90",
   "metadata": {},
   "outputs": [],
   "source": [
    "PATH = '../work_folder/model_1.pth'"
   ]
  },
  {
   "cell_type": "code",
   "execution_count": null,
   "id": "c9558cd4-62ee-4609-8ec8-9df80ef8f68e",
   "metadata": {},
   "outputs": [],
   "source": [
    "torch.save(net.state_dict(), PATH)"
   ]
  },
  {
   "cell_type": "code",
   "execution_count": null,
   "id": "ec946654-7c2e-4ea3-bcc8-c396408c4d05",
   "metadata": {},
   "outputs": [],
   "source": [
    "dataiter = iter(testloader)\n",
    "images, labels = next(dataiter)\n",
    "\n",
    "# print images\n",
    "imshow(torchvision.utils.make_grid(images))\n",
    "print('GroundTruth: ', ' '.join(f'{classes[labels[j]]:5s}' for j in range(4)))"
   ]
  },
  {
   "cell_type": "code",
   "execution_count": 37,
   "id": "2690ec61-be47-42c8-8857-5f4bc1e25eb6",
   "metadata": {},
   "outputs": [
    {
     "data": {
      "text/plain": [
       "<All keys matched successfully>"
      ]
     },
     "execution_count": 37,
     "metadata": {},
     "output_type": "execute_result"
    }
   ],
   "source": [
    "net = Net()\n",
    "net.load_state_dict(torch.load(PATH, weights_only=True))"
   ]
  },
  {
   "cell_type": "code",
   "execution_count": null,
   "id": "5cc7f210-f2fb-4ef6-9223-f36c3335b8db",
   "metadata": {},
   "outputs": [],
   "source": [
    "outputs = net(images)\n",
    "\n",
    "_, predicted = torch.max(outputs, 1)\n",
    "\n",
    "print('Predicted: ', ' '.join(f'{classes[predicted[j]]:5s}'\n",
    "                              for j in range(4)))"
   ]
  },
  {
   "cell_type": "code",
   "execution_count": 38,
   "id": "1ffc1cd0-ee04-4c07-b989-fa9e6188eb0e",
   "metadata": {},
   "outputs": [
    {
     "name": "stdout",
     "output_type": "stream",
     "text": [
      "Accuracy of the network on the 1000 test images: 82 %\n"
     ]
    }
   ],
   "source": [
    "correct = 0\n",
    "total = 0\n",
    "# since we're not training, we don't need to calculate the gradients for our outputs\n",
    "with torch.no_grad():\n",
    "    for data in testloader:\n",
    "        images, labels = data\n",
    "        # calculate outputs by running images through the network\n",
    "        outputs = net(images)\n",
    "        # the class with the highest energy is what we choose as prediction\n",
    "        _, predicted = torch.max(outputs.data, 1)\n",
    "        total += labels.size(0)\n",
    "        correct += (predicted == labels).sum().item()\n",
    "\n",
    "print(f'Accuracy of the network on the 1000 test images: {100 * correct // total} %')"
   ]
  },
  {
   "cell_type": "code",
   "execution_count": 39,
   "id": "80c1bbd6-8063-4acb-9cac-0700dad39d78",
   "metadata": {},
   "outputs": [
    {
     "name": "stdout",
     "output_type": "stream",
     "text": [
      "Accuracy for class: 0     is 89.3 %\n",
      "Accuracy for class: 1     is 68.3 %\n"
     ]
    }
   ],
   "source": [
    "correct_pred = {classname: 0 for classname in classes}\n",
    "total_pred = {classname: 0 for classname in classes}\n",
    "\n",
    "# again no gradients needed\n",
    "with torch.no_grad():\n",
    "    for data in testloader:\n",
    "        images, labels = data\n",
    "        outputs = net(images)\n",
    "        _, predictions = torch.max(outputs, 1)\n",
    "        # collect the correct predictions for each class\n",
    "        for label, prediction in zip(labels, predictions):\n",
    "            if label == prediction:\n",
    "                correct_pred[classes[label]] += 1\n",
    "            total_pred[classes[label]] += 1\n",
    "\n",
    "\n",
    "# print accuracy for each class\n",
    "for classname, correct_count in correct_pred.items():\n",
    "    accuracy = 100 * float(correct_count) / total_pred[classname]\n",
    "    print(f'Accuracy for class: {classname:5s} is {accuracy:.1f} %')"
   ]
  },
  {
   "cell_type": "code",
   "execution_count": null,
   "id": "aa8088d6-4aa8-4491-b73c-b4142ee6854d",
   "metadata": {},
   "outputs": [],
   "source": []
  }
 ],
 "metadata": {
  "kernelspec": {
   "display_name": "Python 3 (ipykernel)",
   "language": "python",
   "name": "python3"
  },
  "language_info": {
   "codemirror_mode": {
    "name": "ipython",
    "version": 3
   },
   "file_extension": ".py",
   "mimetype": "text/x-python",
   "name": "python",
   "nbconvert_exporter": "python",
   "pygments_lexer": "ipython3",
   "version": "3.12.3"
  }
 },
 "nbformat": 4,
 "nbformat_minor": 5
}
